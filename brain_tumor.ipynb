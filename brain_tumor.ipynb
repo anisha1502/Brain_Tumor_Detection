{
 "cells": [
  {
   "cell_type": "code",
   "execution_count": 3,
   "metadata": {},
   "outputs": [
    {
     "name": "stderr",
     "output_type": "stream",
     "text": [
      "Using TensorFlow backend.\n"
     ]
    }
   ],
   "source": [
    "import tensorflow as tf\n",
    "from keras.preprocessing.image import ImageDataGenerator"
   ]
  },
  {
   "cell_type": "code",
   "execution_count": 9,
   "metadata": {},
   "outputs": [
    {
     "name": "stdout",
     "output_type": "stream",
     "text": [
      "Found 162 images belonging to 2 classes.\n",
      "Found 91 images belonging to 2 classes.\n"
     ]
    }
   ],
   "source": [
    "#preprocessing taining set\n",
    "train_datagen = ImageDataGenerator(\n",
    "        rescale=1./255,\n",
    "        shear_range=0.2,\n",
    "        zoom_range=0.2,\n",
    "        horizontal_flip=True)\n",
    "train_set = train_datagen.flow_from_directory(\n",
    "        r'C:\\B_T\\train_set\\train1',\n",
    "        target_size=(64, 64),\n",
    "        batch_size=32,\n",
    "        class_mode='binary')\n",
    "#preprocessing test set\n",
    "test_datagen = ImageDataGenerator(rescale=1./255)\n",
    "test_set = test_datagen.flow_from_directory(\n",
    "        r'C:\\B_T\\test_test\\test1',\n",
    "        target_size=(64, 64),\n",
    "        batch_size=32,\n",
    "        class_mode='binary')\n"
   ]
  },
  {
   "cell_type": "code",
   "execution_count": 11,
   "metadata": {},
   "outputs": [],
   "source": [
    "cnn=tf.keras.models.Sequential()"
   ]
  },
  {
   "cell_type": "code",
   "execution_count": 12,
   "metadata": {},
   "outputs": [],
   "source": [
    "#convolutional\n",
    "cnn.add(tf.keras.layers.Conv2D(filters=32,kernel_size=3,activation='relu',input_shape=[64,64,3]))"
   ]
  },
  {
   "cell_type": "code",
   "execution_count": 13,
   "metadata": {},
   "outputs": [],
   "source": [
    "#pooling\n",
    "cnn.add(tf.keras.layers.MaxPool2D(pool_size=2,strides=2))"
   ]
  },
  {
   "cell_type": "code",
   "execution_count": 14,
   "metadata": {},
   "outputs": [],
   "source": [
    "cnn.add(tf.keras.layers.Conv2D(filters=32,kernel_size=3,activation='relu'))\n",
    "cnn.add(tf.keras.layers.MaxPool2D(pool_size=2,strides=2))\n"
   ]
  },
  {
   "cell_type": "code",
   "execution_count": 15,
   "metadata": {},
   "outputs": [],
   "source": [
    "cnn.add(tf.keras.layers.Flatten())"
   ]
  },
  {
   "cell_type": "code",
   "execution_count": 16,
   "metadata": {},
   "outputs": [],
   "source": [
    "cnn.add(tf.keras.layers.Dense(units=128,activation='relu'))"
   ]
  },
  {
   "cell_type": "code",
   "execution_count": 17,
   "metadata": {},
   "outputs": [],
   "source": [
    "#for the output layer\n",
    "cnn.add(tf.keras.layers.Dense(units=1,activation='sigmoid'))"
   ]
  },
  {
   "cell_type": "code",
   "execution_count": 19,
   "metadata": {},
   "outputs": [],
   "source": [
    "cnn.compile(optimizer='adam',loss='binary_crossentropy',metrics=['accuracy'])"
   ]
  },
  {
   "cell_type": "code",
   "execution_count": 30,
   "metadata": {},
   "outputs": [
    {
     "name": "stdout",
     "output_type": "stream",
     "text": [
      "Epoch 1/35\n",
      "6/6 [==============================] - 14s 2s/step - loss: 0.4854 - accuracy: 0.7531 - val_loss: 0.3601 - val_accuracy: 0.8791\n",
      "Epoch 2/35\n",
      "6/6 [==============================] - 2s 328ms/step - loss: 0.5172 - accuracy: 0.7407 - val_loss: 0.3657 - val_accuracy: 0.8571\n",
      "Epoch 3/35\n",
      "6/6 [==============================] - 2s 265ms/step - loss: 0.4349 - accuracy: 0.8086 - val_loss: 0.5575 - val_accuracy: 0.7143\n",
      "Epoch 4/35\n",
      "6/6 [==============================] - 1s 240ms/step - loss: 0.4506 - accuracy: 0.7778 - val_loss: 0.5659 - val_accuracy: 0.6923\n",
      "Epoch 5/35\n",
      "6/6 [==============================] - 1s 240ms/step - loss: 0.4069 - accuracy: 0.8148 - val_loss: 0.4646 - val_accuracy: 0.7692\n",
      "Epoch 6/35\n",
      "6/6 [==============================] - 1s 231ms/step - loss: 0.3800 - accuracy: 0.8457 - val_loss: 0.5115 - val_accuracy: 0.7473\n",
      "Epoch 7/35\n",
      "6/6 [==============================] - 2s 313ms/step - loss: 0.4629 - accuracy: 0.8148 - val_loss: 0.4307 - val_accuracy: 0.8132\n",
      "Epoch 8/35\n",
      "6/6 [==============================] - 1s 239ms/step - loss: 0.3948 - accuracy: 0.7963 - val_loss: 0.4416 - val_accuracy: 0.7582\n",
      "Epoch 9/35\n",
      "6/6 [==============================] - 1s 229ms/step - loss: 0.4491 - accuracy: 0.7654 - val_loss: 0.5898 - val_accuracy: 0.6703\n",
      "Epoch 10/35\n",
      "6/6 [==============================] - 2s 252ms/step - loss: 0.4737 - accuracy: 0.7778 - val_loss: 0.5638 - val_accuracy: 0.7033\n",
      "Epoch 11/35\n",
      "6/6 [==============================] - 1s 228ms/step - loss: 0.4718 - accuracy: 0.7901 - val_loss: 0.4915 - val_accuracy: 0.7692\n",
      "Epoch 12/35\n",
      "6/6 [==============================] - 2s 288ms/step - loss: 0.4440 - accuracy: 0.8333 - val_loss: 0.5813 - val_accuracy: 0.7143\n",
      "Epoch 13/35\n",
      "6/6 [==============================] - 2s 316ms/step - loss: 0.4164 - accuracy: 0.8086 - val_loss: 0.4923 - val_accuracy: 0.7692\n",
      "Epoch 14/35\n",
      "6/6 [==============================] - 3s 418ms/step - loss: 0.4781 - accuracy: 0.7778 - val_loss: 0.5085 - val_accuracy: 0.7363\n",
      "Epoch 15/35\n",
      "6/6 [==============================] - 1s 241ms/step - loss: 0.4263 - accuracy: 0.8086 - val_loss: 0.4211 - val_accuracy: 0.8242\n",
      "Epoch 16/35\n",
      "6/6 [==============================] - 2s 281ms/step - loss: 0.3655 - accuracy: 0.8272 - val_loss: 0.4341 - val_accuracy: 0.8242\n",
      "Epoch 17/35\n",
      "6/6 [==============================] - 2s 276ms/step - loss: 0.3860 - accuracy: 0.8580 - val_loss: 0.5637 - val_accuracy: 0.7033\n",
      "Epoch 18/35\n",
      "6/6 [==============================] - 1s 232ms/step - loss: 0.3632 - accuracy: 0.8519 - val_loss: 0.4799 - val_accuracy: 0.7692\n",
      "Epoch 19/35\n",
      "6/6 [==============================] - 2s 251ms/step - loss: 0.3548 - accuracy: 0.8272 - val_loss: 0.8753 - val_accuracy: 0.6264\n",
      "Epoch 20/35\n",
      "6/6 [==============================] - 2s 283ms/step - loss: 0.3650 - accuracy: 0.8395 - val_loss: 0.4825 - val_accuracy: 0.7802\n",
      "Epoch 21/35\n",
      "6/6 [==============================] - 2s 273ms/step - loss: 0.3828 - accuracy: 0.8272 - val_loss: 0.5488 - val_accuracy: 0.7253\n",
      "Epoch 22/35\n",
      "6/6 [==============================] - 2s 273ms/step - loss: 0.3421 - accuracy: 0.8457 - val_loss: 0.4199 - val_accuracy: 0.8352\n",
      "Epoch 23/35\n",
      "6/6 [==============================] - 1s 233ms/step - loss: 0.4007 - accuracy: 0.8272 - val_loss: 0.6056 - val_accuracy: 0.6813\n",
      "Epoch 24/35\n",
      "6/6 [==============================] - 2s 313ms/step - loss: 0.4147 - accuracy: 0.8333 - val_loss: 0.2926 - val_accuracy: 0.8791\n",
      "Epoch 25/35\n",
      "6/6 [==============================] - 2s 271ms/step - loss: 0.3938 - accuracy: 0.8025 - val_loss: 0.3157 - val_accuracy: 0.8571\n",
      "Epoch 26/35\n",
      "6/6 [==============================] - 1s 241ms/step - loss: 0.3727 - accuracy: 0.8148 - val_loss: 0.3447 - val_accuracy: 0.8352\n",
      "Epoch 27/35\n",
      "6/6 [==============================] - 2s 276ms/step - loss: 0.3852 - accuracy: 0.8333 - val_loss: 0.3590 - val_accuracy: 0.8022\n",
      "Epoch 28/35\n",
      "6/6 [==============================] - 1s 231ms/step - loss: 0.3797 - accuracy: 0.8395 - val_loss: 0.3670 - val_accuracy: 0.8132\n",
      "Epoch 29/35\n",
      "6/6 [==============================] - 2s 257ms/step - loss: 0.4520 - accuracy: 0.7901 - val_loss: 0.6917 - val_accuracy: 0.6374\n",
      "Epoch 30/35\n",
      "6/6 [==============================] - 2s 291ms/step - loss: 0.4078 - accuracy: 0.8333 - val_loss: 0.4459 - val_accuracy: 0.8462\n",
      "Epoch 31/35\n",
      "6/6 [==============================] - 3s 418ms/step - loss: 0.3740 - accuracy: 0.8642 - val_loss: 0.3947 - val_accuracy: 0.7802\n",
      "Epoch 32/35\n",
      "6/6 [==============================] - 1s 243ms/step - loss: 0.3502 - accuracy: 0.8580 - val_loss: 0.3780 - val_accuracy: 0.8462\n",
      "Epoch 33/35\n",
      "6/6 [==============================] - 2s 250ms/step - loss: 0.3442 - accuracy: 0.8457 - val_loss: 0.4192 - val_accuracy: 0.8791\n",
      "Epoch 34/35\n",
      "6/6 [==============================] - 2s 292ms/step - loss: 0.4206 - accuracy: 0.7901 - val_loss: 0.4082 - val_accuracy: 0.8132\n",
      "Epoch 35/35\n",
      "6/6 [==============================] - 2s 281ms/step - loss: 0.3462 - accuracy: 0.8333 - val_loss: 0.3928 - val_accuracy: 0.8681\n"
     ]
    },
    {
     "data": {
      "text/plain": [
       "<tensorflow.python.keras.callbacks.History at 0x2cc7589a348>"
      ]
     },
     "execution_count": 30,
     "metadata": {},
     "output_type": "execute_result"
    }
   ],
   "source": [
    "cnn.fit(x=train_set,validation_data=test_set,epochs=35)"
   ]
  },
  {
   "cell_type": "code",
   "execution_count": 31,
   "metadata": {},
   "outputs": [
    {
     "name": "stdout",
     "output_type": "stream",
     "text": [
      "Yes\n"
     ]
    }
   ],
   "source": [
    "import numpy as np\n",
    "from keras.preprocessing import image\n",
    "test_image=image.load_img(r'C:\\B_T\\single_pred\\Y259.jpg',target_size=(64,64))\n",
    "test_image=np.expand_dims(test_image,axis=0)\n",
    "result=cnn.predict(test_image)\n",
    "if(result[0][0]==1):\n",
    "    prediction='Yes'\n",
    "else:\n",
    "    prediction='No'\n",
    "print(prediction)\n",
    "    \n"
   ]
  },
  {
   "cell_type": "code",
   "execution_count": null,
   "metadata": {},
   "outputs": [],
   "source": []
  },
  {
   "cell_type": "code",
   "execution_count": null,
   "metadata": {},
   "outputs": [],
   "source": []
  }
 ],
 "metadata": {
  "kernelspec": {
   "display_name": "Python 3",
   "language": "python",
   "name": "python3"
  },
  "language_info": {
   "codemirror_mode": {
    "name": "ipython",
    "version": 3
   },
   "file_extension": ".py",
   "mimetype": "text/x-python",
   "name": "python",
   "nbconvert_exporter": "python",
   "pygments_lexer": "ipython3",
   "version": "3.7.5"
  }
 },
 "nbformat": 4,
 "nbformat_minor": 4
}
